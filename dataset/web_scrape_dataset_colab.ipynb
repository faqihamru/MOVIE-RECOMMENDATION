{
  "nbformat": 4,
  "nbformat_minor": 0,
  "metadata": {
    "colab": {
      "name": "Telaah Data Tugas Akhir 3.ipynb",
      "provenance": [],
      "collapsed_sections": []
    },
    "kernelspec": {
      "name": "python3",
      "display_name": "Python 3"
    },
    "language_info": {
      "name": "python"
    },
    "widgets": {
      "application/vnd.jupyter.widget-state+json": {
        "92cb1c1210764804820d8a7829eb835c": {
          "model_module": "@jupyter-widgets/controls",
          "model_name": "HBoxModel",
          "model_module_version": "1.5.0",
          "state": {
            "_view_name": "HBoxView",
            "_dom_classes": [],
            "_model_name": "HBoxModel",
            "_view_module": "@jupyter-widgets/controls",
            "_model_module_version": "1.5.0",
            "_view_count": null,
            "_view_module_version": "1.5.0",
            "box_style": "",
            "layout": "IPY_MODEL_33f01263773a40f5b746e0d66dec071e",
            "_model_module": "@jupyter-widgets/controls",
            "children": [
              "IPY_MODEL_1ff1c3fac5e443aba854f644d96b68ab",
              "IPY_MODEL_19af2626f66a4ae6adc5af52ed93c933",
              "IPY_MODEL_f1479b7e6f604dc89f9a5857444736d1"
            ]
          }
        },
        "33f01263773a40f5b746e0d66dec071e": {
          "model_module": "@jupyter-widgets/base",
          "model_name": "LayoutModel",
          "model_module_version": "1.2.0",
          "state": {
            "_view_name": "LayoutView",
            "grid_template_rows": null,
            "right": null,
            "justify_content": null,
            "_view_module": "@jupyter-widgets/base",
            "overflow": null,
            "_model_module_version": "1.2.0",
            "_view_count": null,
            "flex_flow": null,
            "width": null,
            "min_width": null,
            "border": null,
            "align_items": null,
            "bottom": null,
            "_model_module": "@jupyter-widgets/base",
            "top": null,
            "grid_column": null,
            "overflow_y": null,
            "overflow_x": null,
            "grid_auto_flow": null,
            "grid_area": null,
            "grid_template_columns": null,
            "flex": null,
            "_model_name": "LayoutModel",
            "justify_items": null,
            "grid_row": null,
            "max_height": null,
            "align_content": null,
            "visibility": null,
            "align_self": null,
            "height": null,
            "min_height": null,
            "padding": null,
            "grid_auto_rows": null,
            "grid_gap": null,
            "max_width": null,
            "order": null,
            "_view_module_version": "1.2.0",
            "grid_template_areas": null,
            "object_position": null,
            "object_fit": null,
            "grid_auto_columns": null,
            "margin": null,
            "display": null,
            "left": null
          }
        },
        "1ff1c3fac5e443aba854f644d96b68ab": {
          "model_module": "@jupyter-widgets/controls",
          "model_name": "HTMLModel",
          "model_module_version": "1.5.0",
          "state": {
            "_view_name": "HTMLView",
            "style": "IPY_MODEL_f77be1fc7ecf4fc5ba6ab70f116c01f1",
            "_dom_classes": [],
            "description": "",
            "_model_name": "HTMLModel",
            "placeholder": "​",
            "_view_module": "@jupyter-widgets/controls",
            "_model_module_version": "1.5.0",
            "value": " 99%",
            "_view_count": null,
            "_view_module_version": "1.5.0",
            "description_tooltip": null,
            "_model_module": "@jupyter-widgets/controls",
            "layout": "IPY_MODEL_3d7cb73869804ea9a9a43b6db872ae3a"
          }
        },
        "19af2626f66a4ae6adc5af52ed93c933": {
          "model_module": "@jupyter-widgets/controls",
          "model_name": "FloatProgressModel",
          "model_module_version": "1.5.0",
          "state": {
            "_view_name": "ProgressView",
            "style": "IPY_MODEL_bf7bc6ca05944750adf540e4c7653232",
            "_dom_classes": [],
            "description": "",
            "_model_name": "FloatProgressModel",
            "bar_style": "danger",
            "max": 188,
            "_view_module": "@jupyter-widgets/controls",
            "_model_module_version": "1.5.0",
            "value": 187,
            "_view_count": null,
            "_view_module_version": "1.5.0",
            "orientation": "horizontal",
            "min": 0,
            "description_tooltip": null,
            "_model_module": "@jupyter-widgets/controls",
            "layout": "IPY_MODEL_a4477c3d31c14fdfb9a01b298c8addc5"
          }
        },
        "f1479b7e6f604dc89f9a5857444736d1": {
          "model_module": "@jupyter-widgets/controls",
          "model_name": "HTMLModel",
          "model_module_version": "1.5.0",
          "state": {
            "_view_name": "HTMLView",
            "style": "IPY_MODEL_13b58067e52b486f8338c9ccbe6dfe60",
            "_dom_classes": [],
            "description": "",
            "_model_name": "HTMLModel",
            "placeholder": "​",
            "_view_module": "@jupyter-widgets/controls",
            "_model_module_version": "1.5.0",
            "value": " 187/188 [1:01:19&lt;00:19, 19.84s/it]",
            "_view_count": null,
            "_view_module_version": "1.5.0",
            "description_tooltip": null,
            "_model_module": "@jupyter-widgets/controls",
            "layout": "IPY_MODEL_9ca0609c882c4ada898004c25fd22a64"
          }
        },
        "f77be1fc7ecf4fc5ba6ab70f116c01f1": {
          "model_module": "@jupyter-widgets/controls",
          "model_name": "DescriptionStyleModel",
          "model_module_version": "1.5.0",
          "state": {
            "_view_name": "StyleView",
            "_model_name": "DescriptionStyleModel",
            "description_width": "",
            "_view_module": "@jupyter-widgets/base",
            "_model_module_version": "1.5.0",
            "_view_count": null,
            "_view_module_version": "1.2.0",
            "_model_module": "@jupyter-widgets/controls"
          }
        },
        "3d7cb73869804ea9a9a43b6db872ae3a": {
          "model_module": "@jupyter-widgets/base",
          "model_name": "LayoutModel",
          "model_module_version": "1.2.0",
          "state": {
            "_view_name": "LayoutView",
            "grid_template_rows": null,
            "right": null,
            "justify_content": null,
            "_view_module": "@jupyter-widgets/base",
            "overflow": null,
            "_model_module_version": "1.2.0",
            "_view_count": null,
            "flex_flow": null,
            "width": null,
            "min_width": null,
            "border": null,
            "align_items": null,
            "bottom": null,
            "_model_module": "@jupyter-widgets/base",
            "top": null,
            "grid_column": null,
            "overflow_y": null,
            "overflow_x": null,
            "grid_auto_flow": null,
            "grid_area": null,
            "grid_template_columns": null,
            "flex": null,
            "_model_name": "LayoutModel",
            "justify_items": null,
            "grid_row": null,
            "max_height": null,
            "align_content": null,
            "visibility": null,
            "align_self": null,
            "height": null,
            "min_height": null,
            "padding": null,
            "grid_auto_rows": null,
            "grid_gap": null,
            "max_width": null,
            "order": null,
            "_view_module_version": "1.2.0",
            "grid_template_areas": null,
            "object_position": null,
            "object_fit": null,
            "grid_auto_columns": null,
            "margin": null,
            "display": null,
            "left": null
          }
        },
        "bf7bc6ca05944750adf540e4c7653232": {
          "model_module": "@jupyter-widgets/controls",
          "model_name": "ProgressStyleModel",
          "model_module_version": "1.5.0",
          "state": {
            "_view_name": "StyleView",
            "_model_name": "ProgressStyleModel",
            "description_width": "",
            "_view_module": "@jupyter-widgets/base",
            "_model_module_version": "1.5.0",
            "_view_count": null,
            "_view_module_version": "1.2.0",
            "bar_color": null,
            "_model_module": "@jupyter-widgets/controls"
          }
        },
        "a4477c3d31c14fdfb9a01b298c8addc5": {
          "model_module": "@jupyter-widgets/base",
          "model_name": "LayoutModel",
          "model_module_version": "1.2.0",
          "state": {
            "_view_name": "LayoutView",
            "grid_template_rows": null,
            "right": null,
            "justify_content": null,
            "_view_module": "@jupyter-widgets/base",
            "overflow": null,
            "_model_module_version": "1.2.0",
            "_view_count": null,
            "flex_flow": null,
            "width": null,
            "min_width": null,
            "border": null,
            "align_items": null,
            "bottom": null,
            "_model_module": "@jupyter-widgets/base",
            "top": null,
            "grid_column": null,
            "overflow_y": null,
            "overflow_x": null,
            "grid_auto_flow": null,
            "grid_area": null,
            "grid_template_columns": null,
            "flex": null,
            "_model_name": "LayoutModel",
            "justify_items": null,
            "grid_row": null,
            "max_height": null,
            "align_content": null,
            "visibility": null,
            "align_self": null,
            "height": null,
            "min_height": null,
            "padding": null,
            "grid_auto_rows": null,
            "grid_gap": null,
            "max_width": null,
            "order": null,
            "_view_module_version": "1.2.0",
            "grid_template_areas": null,
            "object_position": null,
            "object_fit": null,
            "grid_auto_columns": null,
            "margin": null,
            "display": null,
            "left": null
          }
        },
        "13b58067e52b486f8338c9ccbe6dfe60": {
          "model_module": "@jupyter-widgets/controls",
          "model_name": "DescriptionStyleModel",
          "model_module_version": "1.5.0",
          "state": {
            "_view_name": "StyleView",
            "_model_name": "DescriptionStyleModel",
            "description_width": "",
            "_view_module": "@jupyter-widgets/base",
            "_model_module_version": "1.5.0",
            "_view_count": null,
            "_view_module_version": "1.2.0",
            "_model_module": "@jupyter-widgets/controls"
          }
        },
        "9ca0609c882c4ada898004c25fd22a64": {
          "model_module": "@jupyter-widgets/base",
          "model_name": "LayoutModel",
          "model_module_version": "1.2.0",
          "state": {
            "_view_name": "LayoutView",
            "grid_template_rows": null,
            "right": null,
            "justify_content": null,
            "_view_module": "@jupyter-widgets/base",
            "overflow": null,
            "_model_module_version": "1.2.0",
            "_view_count": null,
            "flex_flow": null,
            "width": null,
            "min_width": null,
            "border": null,
            "align_items": null,
            "bottom": null,
            "_model_module": "@jupyter-widgets/base",
            "top": null,
            "grid_column": null,
            "overflow_y": null,
            "overflow_x": null,
            "grid_auto_flow": null,
            "grid_area": null,
            "grid_template_columns": null,
            "flex": null,
            "_model_name": "LayoutModel",
            "justify_items": null,
            "grid_row": null,
            "max_height": null,
            "align_content": null,
            "visibility": null,
            "align_self": null,
            "height": null,
            "min_height": null,
            "padding": null,
            "grid_auto_rows": null,
            "grid_gap": null,
            "max_width": null,
            "order": null,
            "_view_module_version": "1.2.0",
            "grid_template_areas": null,
            "object_position": null,
            "object_fit": null,
            "grid_auto_columns": null,
            "margin": null,
            "display": null,
            "left": null
          }
        }
      }
    }
  },
  "cells": [
    {
      "cell_type": "markdown",
      "metadata": {
        "id": "NAnyaKPCvzQl"
      },
      "source": [
        "# **Mengumpulkan dataset film dengan web-scrapping**\n"
      ]
    },
    {
      "cell_type": "markdown",
      "metadata": {
        "id": "f_-o06Z3TdMY"
      },
      "source": [
        "## **1. Kode untuk Google Colab**\n"
      ]
    },
    {
      "cell_type": "markdown",
      "metadata": {
        "id": "vNFVlEyG4WOW"
      },
      "source": [
        "Install Selenium"
      ]
    },
    {
      "cell_type": "code",
      "metadata": {
        "colab": {
          "base_uri": "https://localhost:8080/"
        },
        "collapsed": true,
        "id": "9Is8rbVvU22Y",
        "outputId": "61828f4e-8ba6-4e45-d1fb-9841f4eba4db"
      },
      "source": [
        "# install chromium, chromedriver, dan selenium\n",
        "!apt update\n",
        "!apt install chromium-chromedriver\n",
        "!pip install selenium\n",
        "\n",
        "# import selenium\n",
        "from selenium import webdriver\n",
        "from selenium.webdriver.common.keys import Keys\n",
        "from selenium.webdriver.common.by import By\n",
        "from selenium.webdriver.support.ui import WebDriverWait\n",
        "from selenium.webdriver.support import expected_conditions as EC\n",
        "\n",
        "# ganti opsi untuk menjalankan selenium secara headless\n",
        "options = webdriver.ChromeOptions()\n",
        "options.add_argument('--headless')\n",
        "options.add_argument('--no-sandbox')\n",
        "options.add_argument('--disable-dev-shm-usage')"
      ],
      "execution_count": null,
      "outputs": [
        {
          "output_type": "stream",
          "name": "stdout",
          "text": [
            "\u001b[33m\r0% [Working]\u001b[0m\r            \rGet:1 http://security.ubuntu.com/ubuntu bionic-security InRelease [88.7 kB]\n",
            "\u001b[33m\r0% [Connecting to archive.ubuntu.com (91.189.88.142)] [1 InRelease 14.2 kB/88.7\u001b[0m\r                                                                               \rHit:2 https://cloud.r-project.org/bin/linux/ubuntu bionic-cran40/ InRelease\n",
            "\u001b[33m\r0% [Connecting to archive.ubuntu.com (91.189.88.142)] [1 InRelease 88.7 kB/88.7\u001b[0m\u001b[33m\r0% [Connecting to archive.ubuntu.com (91.189.88.142)] [Waiting for headers] [Wa\u001b[0m\u001b[33m\r0% [2 InRelease gpgv 3,626 B] [Waiting for headers] [Waiting for headers] [Wait\u001b[0m\r                                                                               \rIgn:3 https://developer.download.nvidia.com/compute/cuda/repos/ubuntu1804/x86_64  InRelease\n",
            "Hit:4 http://ppa.launchpad.net/c2d4u.team/c2d4u4.0+/ubuntu bionic InRelease\n",
            "Ign:5 https://developer.download.nvidia.com/compute/machine-learning/repos/ubuntu1804/x86_64  InRelease\n",
            "Hit:6 http://archive.ubuntu.com/ubuntu bionic InRelease\n",
            "Hit:7 https://developer.download.nvidia.com/compute/cuda/repos/ubuntu1804/x86_64  Release\n",
            "Hit:8 https://developer.download.nvidia.com/compute/machine-learning/repos/ubuntu1804/x86_64  Release\n",
            "Get:9 http://archive.ubuntu.com/ubuntu bionic-updates InRelease [88.7 kB]\n",
            "Hit:10 http://ppa.launchpad.net/cran/libgit2/ubuntu bionic InRelease\n",
            "Hit:11 http://ppa.launchpad.net/deadsnakes/ppa/ubuntu bionic InRelease\n",
            "Get:12 http://archive.ubuntu.com/ubuntu bionic-backports InRelease [74.6 kB]\n",
            "Hit:13 http://ppa.launchpad.net/graphics-drivers/ppa/ubuntu bionic InRelease\n",
            "Fetched 252 kB in 2s (110 kB/s)\n",
            "Reading package lists... Done\n",
            "Building dependency tree       \n",
            "Reading state information... Done\n",
            "37 packages can be upgraded. Run 'apt list --upgradable' to see them.\n",
            "Reading package lists... Done\n",
            "Building dependency tree       \n",
            "Reading state information... Done\n",
            "chromium-chromedriver is already the newest version (95.0.4638.69-0ubuntu0.18.04.1).\n",
            "0 upgraded, 0 newly installed, 0 to remove and 37 not upgraded.\n",
            "Requirement already satisfied: selenium in /usr/local/lib/python3.7/dist-packages (4.0.0)\n",
            "Requirement already satisfied: urllib3[secure]~=1.26 in /usr/local/lib/python3.7/dist-packages (from selenium) (1.26.7)\n",
            "Requirement already satisfied: trio~=0.17 in /usr/local/lib/python3.7/dist-packages (from selenium) (0.19.0)\n",
            "Requirement already satisfied: trio-websocket~=0.9 in /usr/local/lib/python3.7/dist-packages (from selenium) (0.9.2)\n",
            "Requirement already satisfied: outcome in /usr/local/lib/python3.7/dist-packages (from trio~=0.17->selenium) (1.1.0)\n",
            "Requirement already satisfied: attrs>=19.2.0 in /usr/local/lib/python3.7/dist-packages (from trio~=0.17->selenium) (21.2.0)\n",
            "Requirement already satisfied: idna in /usr/local/lib/python3.7/dist-packages (from trio~=0.17->selenium) (2.10)\n",
            "Requirement already satisfied: async-generator>=1.9 in /usr/local/lib/python3.7/dist-packages (from trio~=0.17->selenium) (1.10)\n",
            "Requirement already satisfied: sortedcontainers in /usr/local/lib/python3.7/dist-packages (from trio~=0.17->selenium) (2.4.0)\n",
            "Requirement already satisfied: sniffio in /usr/local/lib/python3.7/dist-packages (from trio~=0.17->selenium) (1.2.0)\n",
            "Requirement already satisfied: wsproto>=0.14 in /usr/local/lib/python3.7/dist-packages (from trio-websocket~=0.9->selenium) (1.0.0)\n",
            "Requirement already satisfied: cryptography>=1.3.4 in /usr/local/lib/python3.7/dist-packages (from urllib3[secure]~=1.26->selenium) (36.0.0)\n",
            "Requirement already satisfied: pyOpenSSL>=0.14 in /usr/local/lib/python3.7/dist-packages (from urllib3[secure]~=1.26->selenium) (21.0.0)\n",
            "Requirement already satisfied: certifi in /usr/local/lib/python3.7/dist-packages (from urllib3[secure]~=1.26->selenium) (2021.10.8)\n",
            "Requirement already satisfied: cffi>=1.12 in /usr/local/lib/python3.7/dist-packages (from cryptography>=1.3.4->urllib3[secure]~=1.26->selenium) (1.15.0)\n",
            "Requirement already satisfied: pycparser in /usr/local/lib/python3.7/dist-packages (from cffi>=1.12->cryptography>=1.3.4->urllib3[secure]~=1.26->selenium) (2.21)\n",
            "Requirement already satisfied: six>=1.5.2 in /usr/local/lib/python3.7/dist-packages (from pyOpenSSL>=0.14->urllib3[secure]~=1.26->selenium) (1.15.0)\n",
            "Requirement already satisfied: h11<1,>=0.9.0 in /usr/local/lib/python3.7/dist-packages (from wsproto>=0.14->trio-websocket~=0.9->selenium) (0.12.0)\n"
          ]
        }
      ]
    },
    {
      "cell_type": "code",
      "metadata": {
        "id": "5zx5RBaizhS5",
        "colab": {
          "base_uri": "https://localhost:8080/"
        },
        "outputId": "49f779f5-1610-41b8-d430-832d2607048d"
      },
      "source": [
        "! pip install tqdm\n",
        "from tqdm.notebook import tqdm"
      ],
      "execution_count": null,
      "outputs": [
        {
          "output_type": "stream",
          "name": "stdout",
          "text": [
            "Requirement already satisfied: tqdm in /usr/local/lib/python3.7/dist-packages (4.62.3)\n"
          ]
        }
      ]
    },
    {
      "cell_type": "markdown",
      "metadata": {
        "id": "VRuvrhmO4ouN"
      },
      "source": [
        "Web-scrape"
      ]
    },
    {
      "cell_type": "code",
      "metadata": {
        "colab": {
          "base_uri": "https://localhost:8080/",
          "height": 49,
          "referenced_widgets": [
            "92cb1c1210764804820d8a7829eb835c",
            "33f01263773a40f5b746e0d66dec071e",
            "1ff1c3fac5e443aba854f644d96b68ab",
            "19af2626f66a4ae6adc5af52ed93c933",
            "f1479b7e6f604dc89f9a5857444736d1",
            "f77be1fc7ecf4fc5ba6ab70f116c01f1",
            "3d7cb73869804ea9a9a43b6db872ae3a",
            "bf7bc6ca05944750adf540e4c7653232",
            "a4477c3d31c14fdfb9a01b298c8addc5",
            "13b58067e52b486f8338c9ccbe6dfe60",
            "9ca0609c882c4ada898004c25fd22a64"
          ]
        },
        "collapsed": true,
        "id": "YDAl5p67XBT-",
        "outputId": "5e683d8b-c9cc-4dff-f811-68e3d4bebc3e"
      },
      "source": [
        "# akses website IMDb \n",
        "driver = webdriver.Chrome(options=options)\n",
        "driver.get(\"https://www.imdb.com/search/title/?title_type=feature&num_votes=10000,&sort=user_rating,desc&ref_=adv_prv\")\n",
        "\n",
        "list_of_movies = []\n",
        "page = 1\n",
        "\n",
        "# jumlah data = 9370\n",
        "# jumlah data per halaman = 50\n",
        "# jumlah halaman = 9370 / 50 = 187\n",
        "page_num = list(range(187))\n",
        "for i in tqdm(page_num):\n",
        "  # mendapatkan list film\n",
        "  movies = driver.find_elements(By.CLASS_NAME, \"lister-item\")\n",
        "\n",
        "  for movie in movies:\n",
        "    data_movies = []\n",
        "    content = movie.find_element(By.CLASS_NAME, \"lister-item-content\")\n",
        "\n",
        "    # mendapatkan judul dan tahun\n",
        "    header = content.find_element(By.CLASS_NAME, \"lister-item-header\")\n",
        "    title = header.find_element(By.TAG_NAME, \"a\").text\n",
        "    date = header.find_element(By.CLASS_NAME, \"lister-item-year\").text.split()\n",
        "    year = date[-1].strip(\"()\")\n",
        "    data_movies.append(title)\n",
        "    data_movies.append(year)\n",
        "\n",
        "    # mendapatkan data film\n",
        "    data = content.find_elements(By.TAG_NAME, \"p\")\n",
        "    \n",
        "    # mendapatkan durasi, genre\n",
        "    #age = data[0].find_element(By.CLASS_NAME, \"certificate\").text\n",
        "    runtime = data[0].find_element(By.CLASS_NAME, \"runtime\").text.split()\n",
        "    genre_list = data[0].find_element(By.CLASS_NAME, \"genre\").text.split(\", \")\n",
        "    genre = []\n",
        "    for _ in genre_list:\n",
        "      genre.append(_)\n",
        "    data_movies.append(runtime[0])\n",
        "    data_movies.append(genre)\n",
        "\n",
        "    # mendapatkan rating\n",
        "    rating = content.find_element(By.NAME, \"ir\").get_attribute(\"data-value\")\n",
        "    data_movies.append(rating)\n",
        "\n",
        "    # mendapatkan director dan pemain film\n",
        "    data2 = data[2].find_elements(By.TAG_NAME, \"a\")\n",
        "    director = data2[0].text\n",
        "    stars = []\n",
        "    for i in range(1, len(data2)):\n",
        "      stars.append(data2[i].text)\n",
        "    data_movies.append(director)\n",
        "    data_movies.append(stars)\n",
        "\n",
        "    # mendapatkan jumlah orang yang melakukan vote\n",
        "    vote = data[3].find_element(By.NAME, \"nv\").get_attribute(\"data-value\")\n",
        "    data_movies.append(vote)\n",
        "    \n",
        "    list_of_movies.append(data_movies)\n",
        "\n",
        "  # navigasi web-scrape ke halaman selanjutnya\n",
        "  if len(driver.find_elements(By.CSS_SELECTOR, \"a.next-page\")) > 0:\n",
        "    page += 50\n",
        "    url = \"https://www.imdb.com/search/title/?title_type=feature&num_votes=10000,&sort=user_rating,desc&start={}&ref_=adv_nxt\".format(page)\n",
        "    driver.get(url)\n",
        "  else:\n",
        "    break"
      ],
      "execution_count": null,
      "outputs": [
        {
          "output_type": "display_data",
          "data": {
            "application/vnd.jupyter.widget-view+json": {
              "model_id": "92cb1c1210764804820d8a7829eb835c",
              "version_minor": 0,
              "version_major": 2
            },
            "text/plain": [
              "  0%|          | 0/188 [00:00<?, ?it/s]"
            ]
          },
          "metadata": {}
        }
      ]
    },
    {
      "cell_type": "markdown",
      "metadata": {
        "id": "_l8AnFgavoEX"
      },
      "source": [
        "# **Membuat dataset dalam bentuk Pandas DataFrame**"
      ]
    },
    {
      "cell_type": "code",
      "metadata": {
        "id": "nQn8z145F8nA"
      },
      "source": [
        "import pandas as pd"
      ],
      "execution_count": null,
      "outputs": []
    },
    {
      "cell_type": "code",
      "metadata": {
        "collapsed": true,
        "id": "opTxn30Ssf-m"
      },
      "source": [
        "# convert list menjadi dataframe\n",
        "df = pd.DataFrame(list_of_movies, columns=[\"Title\", \"Year\", \"Runtime\", \"Genre\", \"Rating\", \"Director\", \"Stars\", \"Vote\"])"
      ],
      "execution_count": null,
      "outputs": []
    },
    {
      "cell_type": "code",
      "metadata": {
        "colab": {
          "base_uri": "https://localhost:8080/",
          "height": 476
        },
        "id": "e-AtSw8_EacK",
        "outputId": "a6c322ca-e737-41bc-abe8-2ef55d5e4b4a"
      },
      "source": [
        "# convert type data agar sesuai\n",
        "df[\"Year\"] = df[\"Year\"].astype(int)\n",
        "df[\"Runtime\"] = df[\"Runtime\"].astype(int)\n",
        "df[\"Rating\"] = df[\"Rating\"].astype(float)\n",
        "df[\"Vote\"] = df[\"Vote\"].astype(int)\n",
        "df"
      ],
      "execution_count": 46,
      "outputs": [
        {
          "output_type": "execute_result",
          "data": {
            "text/html": [
              "<div>\n",
              "<style scoped>\n",
              "    .dataframe tbody tr th:only-of-type {\n",
              "        vertical-align: middle;\n",
              "    }\n",
              "\n",
              "    .dataframe tbody tr th {\n",
              "        vertical-align: top;\n",
              "    }\n",
              "\n",
              "    .dataframe thead th {\n",
              "        text-align: right;\n",
              "    }\n",
              "</style>\n",
              "<table border=\"1\" class=\"dataframe\">\n",
              "  <thead>\n",
              "    <tr style=\"text-align: right;\">\n",
              "      <th></th>\n",
              "      <th>Unnamed: 0</th>\n",
              "      <th>Title</th>\n",
              "      <th>Year</th>\n",
              "      <th>Runtime</th>\n",
              "      <th>Genre</th>\n",
              "      <th>Rating</th>\n",
              "      <th>Director</th>\n",
              "      <th>Stars</th>\n",
              "      <th>Vote</th>\n",
              "    </tr>\n",
              "  </thead>\n",
              "  <tbody>\n",
              "    <tr>\n",
              "      <th>0</th>\n",
              "      <td>0</td>\n",
              "      <td>Jai Bhim</td>\n",
              "      <td>2021</td>\n",
              "      <td>164</td>\n",
              "      <td>['Crime', 'Drama']</td>\n",
              "      <td>9.5</td>\n",
              "      <td>T.J. Gnanavel</td>\n",
              "      <td>['Suriya', 'Lijo Mol Jose', 'Manikandan', 'Raj...</td>\n",
              "      <td>130953</td>\n",
              "    </tr>\n",
              "    <tr>\n",
              "      <th>1</th>\n",
              "      <td>1</td>\n",
              "      <td>The Chaos Class</td>\n",
              "      <td>1975</td>\n",
              "      <td>87</td>\n",
              "      <td>['Comedy', 'Drama']</td>\n",
              "      <td>9.3</td>\n",
              "      <td>Ertem Egilmez</td>\n",
              "      <td>['Kemal Sunal', 'Münir Özkul', 'Halit Akçatepe...</td>\n",
              "      <td>39272</td>\n",
              "    </tr>\n",
              "    <tr>\n",
              "      <th>2</th>\n",
              "      <td>2</td>\n",
              "      <td>The Shawshank Redemption</td>\n",
              "      <td>1994</td>\n",
              "      <td>142</td>\n",
              "      <td>['Drama']</td>\n",
              "      <td>9.3</td>\n",
              "      <td>Frank Darabont</td>\n",
              "      <td>['Tim Robbins', 'Morgan Freeman', 'Bob Gunton'...</td>\n",
              "      <td>2492791</td>\n",
              "    </tr>\n",
              "    <tr>\n",
              "      <th>3</th>\n",
              "      <td>3</td>\n",
              "      <td>The Godfather</td>\n",
              "      <td>1972</td>\n",
              "      <td>175</td>\n",
              "      <td>['Crime', 'Drama']</td>\n",
              "      <td>9.2</td>\n",
              "      <td>Francis Ford Coppola</td>\n",
              "      <td>['Marlon Brando', 'Al Pacino', 'James Caan', '...</td>\n",
              "      <td>1719600</td>\n",
              "    </tr>\n",
              "    <tr>\n",
              "      <th>4</th>\n",
              "      <td>4</td>\n",
              "      <td>Mirror Game</td>\n",
              "      <td>2016</td>\n",
              "      <td>147</td>\n",
              "      <td>['Crime', 'Mystery', 'Thriller']</td>\n",
              "      <td>9.1</td>\n",
              "      <td>Amitabh Reza Chowdhury</td>\n",
              "      <td>['Chanchal Chowdhury', 'Masuma Rahman Nabila',...</td>\n",
              "      <td>25248</td>\n",
              "    </tr>\n",
              "    <tr>\n",
              "      <th>...</th>\n",
              "      <td>...</td>\n",
              "      <td>...</td>\n",
              "      <td>...</td>\n",
              "      <td>...</td>\n",
              "      <td>...</td>\n",
              "      <td>...</td>\n",
              "      <td>...</td>\n",
              "      <td>...</td>\n",
              "      <td>...</td>\n",
              "    </tr>\n",
              "    <tr>\n",
              "      <th>9364</th>\n",
              "      <td>9364</td>\n",
              "      <td>The Cost of Deception</td>\n",
              "      <td>2021</td>\n",
              "      <td>125</td>\n",
              "      <td>['Crime', 'Drama', 'History']</td>\n",
              "      <td>1.4</td>\n",
              "      <td>Keith English</td>\n",
              "      <td>['Vivianne Bánovits', 'András Mózes', 'Barna B...</td>\n",
              "      <td>36525</td>\n",
              "    </tr>\n",
              "    <tr>\n",
              "      <th>9365</th>\n",
              "      <td>9365</td>\n",
              "      <td>Smolensk</td>\n",
              "      <td>2016</td>\n",
              "      <td>120</td>\n",
              "      <td>['Drama', 'Thriller']</td>\n",
              "      <td>1.2</td>\n",
              "      <td>Antoni Krauze</td>\n",
              "      <td>['Beata Fido', 'Maciej Póltorak', 'Aldona Stru...</td>\n",
              "      <td>38429</td>\n",
              "    </tr>\n",
              "    <tr>\n",
              "      <th>9366</th>\n",
              "      <td>9366</td>\n",
              "      <td>Gully</td>\n",
              "      <td>2019</td>\n",
              "      <td>84</td>\n",
              "      <td>['Crime', 'Drama']</td>\n",
              "      <td>1.2</td>\n",
              "      <td>Nabil Elderkin</td>\n",
              "      <td>['Kelvin Harrison Jr.', 'Jacob Latimore', 'Cha...</td>\n",
              "      <td>17070</td>\n",
              "    </tr>\n",
              "    <tr>\n",
              "      <th>9367</th>\n",
              "      <td>9367</td>\n",
              "      <td>Sadak 2</td>\n",
              "      <td>2020</td>\n",
              "      <td>133</td>\n",
              "      <td>['Action', 'Drama']</td>\n",
              "      <td>1.1</td>\n",
              "      <td>Mahesh Bhatt</td>\n",
              "      <td>['Priyanka Bose', 'Alia Bhatt', 'Sanjay Dutt',...</td>\n",
              "      <td>93227</td>\n",
              "    </tr>\n",
              "    <tr>\n",
              "      <th>9368</th>\n",
              "      <td>9368</td>\n",
              "      <td>Cumali Ceber</td>\n",
              "      <td>2017</td>\n",
              "      <td>100</td>\n",
              "      <td>['Comedy']</td>\n",
              "      <td>1.0</td>\n",
              "      <td>Gökhan Gök</td>\n",
              "      <td>['Halil Söyletmez', 'Doga Konakoglu', 'Emre Ke...</td>\n",
              "      <td>38510</td>\n",
              "    </tr>\n",
              "  </tbody>\n",
              "</table>\n",
              "<p>9369 rows × 9 columns</p>\n",
              "</div>"
            ],
            "text/plain": [
              "      Unnamed: 0  ...     Vote\n",
              "0              0  ...   130953\n",
              "1              1  ...    39272\n",
              "2              2  ...  2492791\n",
              "3              3  ...  1719600\n",
              "4              4  ...    25248\n",
              "...          ...  ...      ...\n",
              "9364        9364  ...    36525\n",
              "9365        9365  ...    38429\n",
              "9366        9366  ...    17070\n",
              "9367        9367  ...    93227\n",
              "9368        9368  ...    38510\n",
              "\n",
              "[9369 rows x 9 columns]"
            ]
          },
          "metadata": {},
          "execution_count": 46
        }
      ]
    },
    {
      "cell_type": "markdown",
      "metadata": {
        "id": "szUgpIJjar5D"
      },
      "source": [
        "Import-Eksport dataset"
      ]
    },
    {
      "cell_type": "code",
      "metadata": {
        "colab": {
          "base_uri": "https://localhost:8080/"
        },
        "id": "RRgxfFScabEf",
        "outputId": "b227bdbb-c7a2-46aa-f51d-53bcc58e8bb2"
      },
      "source": [
        "# mount gdrive\n",
        "from google.colab import drive\n",
        "drive.mount('drive')"
      ],
      "execution_count": null,
      "outputs": [
        {
          "output_type": "stream",
          "name": "stdout",
          "text": [
            "Mounted at drive\n"
          ]
        }
      ]
    },
    {
      "cell_type": "code",
      "metadata": {
        "id": "08lf3n72a1ru"
      },
      "source": [
        "# Eksport ke .csv\n",
        "df.to_csv('IMDb_Movie_Dataset.csv')\n",
        "!cp IMDb_Movie_Dataset.csv \"drive/My Drive/Colab Notebooks/\""
      ],
      "execution_count": null,
      "outputs": []
    },
    {
      "cell_type": "code",
      "metadata": {
        "id": "VvgiY84XFGMG"
      },
      "source": [
        "# import dataset dari gdrive\n",
        "df = pd.read_csv('drive/My Drive/Colab Notebooks/IMDb_Movie_Dataset.csv')"
      ],
      "execution_count": 44,
      "outputs": []
    },
    {
      "cell_type": "markdown",
      "metadata": {
        "id": "tUaRE3mB_qWA"
      },
      "source": [
        "# **Telaah Data**"
      ]
    },
    {
      "cell_type": "code",
      "metadata": {
        "id": "Obs_yvkzBytm"
      },
      "source": [
        "import seaborn as sns\n",
        "import matplotlib.pyplot as plt"
      ],
      "execution_count": null,
      "outputs": []
    },
    {
      "cell_type": "code",
      "metadata": {
        "colab": {
          "base_uri": "https://localhost:8080/"
        },
        "id": "IoLeH_5Y_7Vx",
        "outputId": "46180fcc-4760-46b0-fba6-1b43d2d33ec1"
      },
      "source": [
        "df.info()"
      ],
      "execution_count": null,
      "outputs": [
        {
          "output_type": "stream",
          "name": "stdout",
          "text": [
            "<class 'pandas.core.frame.DataFrame'>\n",
            "RangeIndex: 9369 entries, 0 to 9368\n",
            "Data columns (total 9 columns):\n",
            " #   Column      Non-Null Count  Dtype  \n",
            "---  ------      --------------  -----  \n",
            " 0   Unnamed: 0  9369 non-null   int64  \n",
            " 1   Title       9369 non-null   object \n",
            " 2   Year        9369 non-null   int64  \n",
            " 3   Runtime     9369 non-null   int64  \n",
            " 4   Genre       9369 non-null   object \n",
            " 5   Rating      9369 non-null   float64\n",
            " 6   Director    9369 non-null   object \n",
            " 7   Stars       9369 non-null   object \n",
            " 8   Vote        9369 non-null   int64  \n",
            "dtypes: float64(1), int64(4), object(4)\n",
            "memory usage: 658.9+ KB\n"
          ]
        }
      ]
    },
    {
      "cell_type": "code",
      "metadata": {
        "colab": {
          "base_uri": "https://localhost:8080/",
          "height": 300
        },
        "id": "qksL-ZEM_xef",
        "outputId": "6f0b07ce-5f97-4f7a-a981-7175f16d4c5f"
      },
      "source": [
        "df.describe()"
      ],
      "execution_count": null,
      "outputs": [
        {
          "output_type": "execute_result",
          "data": {
            "text/html": [
              "<div>\n",
              "<style scoped>\n",
              "    .dataframe tbody tr th:only-of-type {\n",
              "        vertical-align: middle;\n",
              "    }\n",
              "\n",
              "    .dataframe tbody tr th {\n",
              "        vertical-align: top;\n",
              "    }\n",
              "\n",
              "    .dataframe thead th {\n",
              "        text-align: right;\n",
              "    }\n",
              "</style>\n",
              "<table border=\"1\" class=\"dataframe\">\n",
              "  <thead>\n",
              "    <tr style=\"text-align: right;\">\n",
              "      <th></th>\n",
              "      <th>Unnamed: 0</th>\n",
              "      <th>Year</th>\n",
              "      <th>Runtime</th>\n",
              "      <th>Rating</th>\n",
              "      <th>Vote</th>\n",
              "    </tr>\n",
              "  </thead>\n",
              "  <tbody>\n",
              "    <tr>\n",
              "      <th>count</th>\n",
              "      <td>9369.00000</td>\n",
              "      <td>9369.000000</td>\n",
              "      <td>9369.000000</td>\n",
              "      <td>9369.000000</td>\n",
              "      <td>9.369000e+03</td>\n",
              "    </tr>\n",
              "    <tr>\n",
              "      <th>mean</th>\n",
              "      <td>4684.00000</td>\n",
              "      <td>2000.715231</td>\n",
              "      <td>109.682784</td>\n",
              "      <td>6.635884</td>\n",
              "      <td>8.699928e+04</td>\n",
              "    </tr>\n",
              "    <tr>\n",
              "      <th>std</th>\n",
              "      <td>2704.74167</td>\n",
              "      <td>17.890764</td>\n",
              "      <td>21.589148</td>\n",
              "      <td>1.013307</td>\n",
              "      <td>1.564191e+05</td>\n",
              "    </tr>\n",
              "    <tr>\n",
              "      <th>min</th>\n",
              "      <td>0.00000</td>\n",
              "      <td>1915.000000</td>\n",
              "      <td>45.000000</td>\n",
              "      <td>1.000000</td>\n",
              "      <td>1.000300e+04</td>\n",
              "    </tr>\n",
              "    <tr>\n",
              "      <th>25%</th>\n",
              "      <td>2342.00000</td>\n",
              "      <td>1994.000000</td>\n",
              "      <td>95.000000</td>\n",
              "      <td>6.100000</td>\n",
              "      <td>1.674500e+04</td>\n",
              "    </tr>\n",
              "    <tr>\n",
              "      <th>50%</th>\n",
              "      <td>4684.00000</td>\n",
              "      <td>2006.000000</td>\n",
              "      <td>106.000000</td>\n",
              "      <td>6.700000</td>\n",
              "      <td>3.345200e+04</td>\n",
              "    </tr>\n",
              "    <tr>\n",
              "      <th>75%</th>\n",
              "      <td>7026.00000</td>\n",
              "      <td>2014.000000</td>\n",
              "      <td>119.000000</td>\n",
              "      <td>7.400000</td>\n",
              "      <td>8.663500e+04</td>\n",
              "    </tr>\n",
              "    <tr>\n",
              "      <th>max</th>\n",
              "      <td>9368.00000</td>\n",
              "      <td>2021.000000</td>\n",
              "      <td>439.000000</td>\n",
              "      <td>9.500000</td>\n",
              "      <td>2.492791e+06</td>\n",
              "    </tr>\n",
              "  </tbody>\n",
              "</table>\n",
              "</div>"
            ],
            "text/plain": [
              "       Unnamed: 0         Year      Runtime       Rating          Vote\n",
              "count  9369.00000  9369.000000  9369.000000  9369.000000  9.369000e+03\n",
              "mean   4684.00000  2000.715231   109.682784     6.635884  8.699928e+04\n",
              "std    2704.74167    17.890764    21.589148     1.013307  1.564191e+05\n",
              "min       0.00000  1915.000000    45.000000     1.000000  1.000300e+04\n",
              "25%    2342.00000  1994.000000    95.000000     6.100000  1.674500e+04\n",
              "50%    4684.00000  2006.000000   106.000000     6.700000  3.345200e+04\n",
              "75%    7026.00000  2014.000000   119.000000     7.400000  8.663500e+04\n",
              "max    9368.00000  2021.000000   439.000000     9.500000  2.492791e+06"
            ]
          },
          "metadata": {},
          "execution_count": 8
        }
      ]
    },
    {
      "cell_type": "code",
      "metadata": {
        "colab": {
          "base_uri": "https://localhost:8080/",
          "height": 684
        },
        "id": "Z-5G3ZZr_hHq",
        "outputId": "83724f09-3566-4476-fb61-5eb3a9fe7539"
      },
      "source": [
        "# melihat distribusi film berdasarkan tahun rilis\n",
        "fig, ax = plt.subplots(figsize=(20,8))\n",
        "ax.set_title('Distribusi Film setiap tahun')\n",
        "sns.countplot(x='Year', data=df, ax=ax)\n",
        "plt.xticks(rotation=90)"
      ],
      "execution_count": null,
      "outputs": [
        {
          "output_type": "execute_result",
          "data": {
            "text/plain": [
              "(array([  0,   1,   2,   3,   4,   5,   6,   7,   8,   9,  10,  11,  12,\n",
              "         13,  14,  15,  16,  17,  18,  19,  20,  21,  22,  23,  24,  25,\n",
              "         26,  27,  28,  29,  30,  31,  32,  33,  34,  35,  36,  37,  38,\n",
              "         39,  40,  41,  42,  43,  44,  45,  46,  47,  48,  49,  50,  51,\n",
              "         52,  53,  54,  55,  56,  57,  58,  59,  60,  61,  62,  63,  64,\n",
              "         65,  66,  67,  68,  69,  70,  71,  72,  73,  74,  75,  76,  77,\n",
              "         78,  79,  80,  81,  82,  83,  84,  85,  86,  87,  88,  89,  90,\n",
              "         91,  92,  93,  94,  95,  96,  97,  98,  99, 100, 101, 102, 103,\n",
              "        104]), <a list of 105 Text major ticklabel objects>)"
            ]
          },
          "metadata": {},
          "execution_count": 10
        },
        {
          "output_type": "display_data",
          "data": {
            "image/png": "[encoded data removed]",
            "text/plain": [
              "<Figure size 1440x576 with 1 Axes>"
            ]
          },
          "metadata": {
            "needs_background": "light"
          }
        }
      ]
    },
    {
      "cell_type": "code",
      "metadata": {
        "colab": {
          "base_uri": "https://localhost:8080/"
        },
        "id": "f2LTeo54ImoA",
        "outputId": "c2814bbf-00a3-4591-ec04-438c8708b743"
      },
      "source": [
        "# judul film dengan vote terbanyak (populer)\n",
        "popular = df['Vote'].idxmax()\n",
        "print(\"Film yang paling poluper yaitu {} yang dirilis pada tahun {}\".format(df['Title'][popular], df['Year'][popular]))\n",
        "\n",
        "# judul film dengan vote paling sedikit\n",
        "unpopular = df['Vote'].idxmin()\n",
        "print(\"Film yang kurang poluper yaitu {} yang dirilis pada tahun {}\".format(df['Title'][unpopular], df['Year'][unpopular]))"
      ],
      "execution_count": null,
      "outputs": [
        {
          "output_type": "stream",
          "name": "stdout",
          "text": [
            "Film yang paling poluper yaitu The Shawshank Redemption yang dirilis pada tahun 1994\n",
            "Film yang kurang poluper yaitu Quatermass and the Pit yang dirilis pada tahun 1967\n"
          ]
        }
      ]
    },
    {
      "cell_type": "code",
      "metadata": {
        "colab": {
          "base_uri": "https://localhost:8080/"
        },
        "id": "g6bzrrOdHaHA",
        "outputId": "c8f23eae-1ea8-4ae9-e92a-ebf03cc45229"
      },
      "source": [
        "# judul film dengan durasi terpanjang\n",
        "longest = df['Runtime'].idxmax()\n",
        "print(\"Film dengan durasi terpanjang adalah {} dengan durasi {} menit\".format(df['Title'][longest], df['Runtime'][longest]))\n",
        "\n",
        "# judul film dengan durasi terpendek\n",
        "sortest = df['Runtime'].idxmin()\n",
        "print(\"Film dengan durasi terpendek adalah {} dengan durasi {} menit\".format(df['Title'][sortest], df['Runtime'][sortest]))"
      ],
      "execution_count": null,
      "outputs": [
        {
          "output_type": "stream",
          "name": "stdout",
          "text": [
            "Film dengan durasi terpanjang adalah Satantango dengan durasi 439 menit\n",
            "Film dengan durasi terpendek adalah Sherlock Jr. dengan durasi 45 menit\n"
          ]
        }
      ]
    },
    {
      "cell_type": "code",
      "metadata": {
        "colab": {
          "base_uri": "https://localhost:8080/"
        },
        "id": "f0oiKGJZQC6n",
        "outputId": "010d3d97-dbff-43fe-9bb4-5e1440cf74ae"
      },
      "source": [
        "# 10 director dengan film terbanyak\n",
        "director_film = df['Director'].value_counts()\n",
        "director_film.head(10)"
      ],
      "execution_count": 30,
      "outputs": [
        {
          "output_type": "execute_result",
          "data": {
            "text/plain": [
              "Woody Allen          47\n",
              "Clint Eastwood       37\n",
              "Alfred Hitchcock     35\n",
              "Steven Spielberg     31\n",
              "Ridley Scott         26\n",
              "Ron Howard           25\n",
              "Steven Soderbergh    24\n",
              "Martin Scorsese      23\n",
              "Joel Schumacher      20\n",
              "Brian De Palma       20\n",
              "Name: Director, dtype: int64"
            ]
          },
          "metadata": {},
          "execution_count": 30
        }
      ]
    }
  ]
}